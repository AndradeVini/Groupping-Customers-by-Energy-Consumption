{
 "cells": [
  {
   "cell_type": "markdown",
   "id": "3bc4aa4b",
   "metadata": {},
   "source": [
    "# Grouping customer by energy consumption"
   ]
  },
  {
   "cell_type": "code",
   "execution_count": 26,
   "id": "43623881",
   "metadata": {},
   "outputs": [],
   "source": [
    "import pandas as pd\n",
    "import numpy as np\n",
    "import matplotlib.pyplot as plt\n",
    "import seaborn as sns\n",
    "\n",
    "from sklearn.cluster import KMeans\n",
    "from sklearn.cluster import DBSCAN\n",
    "from sklearn.metrics import silhouette_score\n",
    "from sklearn.decomposition import PCA\n",
    "from sklearn.model_selection import train_test_split\n",
    "\n",
    "from scipy.spatial.distance import cdist, pdist\n",
    "\n",
    "import warnings\n",
    "\n",
    "warnings.filterwarnings('ignore')"
   ]
  },
  {
   "cell_type": "code",
   "execution_count": 2,
   "id": "583e4d5b",
   "metadata": {},
   "outputs": [],
   "source": [
    "# Importing Data\n",
    "\n",
    "df = pd.read_csv(\"C:########/dados/household_power_consumption.txt\", sep = ';', header=0)"
   ]
  },
  {
   "cell_type": "code",
   "execution_count": 3,
   "id": "9b48f726",
   "metadata": {},
   "outputs": [
    {
     "data": {
      "text/html": [
       "<div>\n",
       "<style scoped>\n",
       "    .dataframe tbody tr th:only-of-type {\n",
       "        vertical-align: middle;\n",
       "    }\n",
       "\n",
       "    .dataframe tbody tr th {\n",
       "        vertical-align: top;\n",
       "    }\n",
       "\n",
       "    .dataframe thead th {\n",
       "        text-align: right;\n",
       "    }\n",
       "</style>\n",
       "<table border=\"1\" class=\"dataframe\">\n",
       "  <thead>\n",
       "    <tr style=\"text-align: right;\">\n",
       "      <th></th>\n",
       "      <th>Date</th>\n",
       "      <th>Time</th>\n",
       "      <th>Global_active_power</th>\n",
       "      <th>Global_reactive_power</th>\n",
       "      <th>Voltage</th>\n",
       "      <th>Global_intensity</th>\n",
       "      <th>Sub_metering_1</th>\n",
       "      <th>Sub_metering_2</th>\n",
       "      <th>Sub_metering_3</th>\n",
       "    </tr>\n",
       "  </thead>\n",
       "  <tbody>\n",
       "    <tr>\n",
       "      <th>0</th>\n",
       "      <td>16/12/2006</td>\n",
       "      <td>17:24:00</td>\n",
       "      <td>4.216</td>\n",
       "      <td>0.418</td>\n",
       "      <td>234.840</td>\n",
       "      <td>18.400</td>\n",
       "      <td>0.000</td>\n",
       "      <td>1.000</td>\n",
       "      <td>17.0</td>\n",
       "    </tr>\n",
       "    <tr>\n",
       "      <th>1</th>\n",
       "      <td>16/12/2006</td>\n",
       "      <td>17:25:00</td>\n",
       "      <td>5.360</td>\n",
       "      <td>0.436</td>\n",
       "      <td>233.630</td>\n",
       "      <td>23.000</td>\n",
       "      <td>0.000</td>\n",
       "      <td>1.000</td>\n",
       "      <td>16.0</td>\n",
       "    </tr>\n",
       "  </tbody>\n",
       "</table>\n",
       "</div>"
      ],
      "text/plain": [
       "         Date      Time Global_active_power Global_reactive_power  Voltage  \\\n",
       "0  16/12/2006  17:24:00               4.216                 0.418  234.840   \n",
       "1  16/12/2006  17:25:00               5.360                 0.436  233.630   \n",
       "\n",
       "  Global_intensity Sub_metering_1 Sub_metering_2  Sub_metering_3  \n",
       "0           18.400          0.000          1.000            17.0  \n",
       "1           23.000          0.000          1.000            16.0  "
      ]
     },
     "execution_count": 3,
     "metadata": {},
     "output_type": "execute_result"
    }
   ],
   "source": [
    "# Visualize data and difine it.\n",
    "df.head(2)"
   ]
  },
  {
   "cell_type": "markdown",
   "id": "3d62232d",
   "metadata": {},
   "source": [
    "Variable Definition: \n",
    "    \n",
    "    1.date: Date in format dd/mm/yyyy;\n",
    "    \n",
    "    2.time: time in format hh:mm:ss\n",
    "    \n",
    "    3.global_active_power: household global minute-averaged active power (in kilowatt)\n",
    "    \n",
    "    4.global_reactive_power: household global minute-averaged reactive power (in kilowatt)\n",
    "    \n",
    "    5.voltage: minute-averaged voltage (in volt)\n",
    "    \n",
    "    6.global_intensity: household global minute-averaged current intensity (in ampere)\n",
    "    \n",
    "    7.sub_metering_1: energy sub-metering No. 1 (in watt-hour of active energy). It corresponds to the kitchen, containing mainly a dishwasher, an oven and a microwave (hot plates are not electric but gas powered).\n",
    "    \n",
    "    8.sub_metering_2: energy sub-metering No. 2 (in watt-hour of active energy). It corresponds to the laundry room, containing a washing-machine, a tumble-drier, a refrigerator and a light.\n",
    "    \n",
    "    9.sub_metering_3: energy sub-metering No. 3 (in watt-hour of active energy). It corresponds to an electric water-heater and an air-conditioner.\n",
    "\n"
   ]
  },
  {
   "cell_type": "code",
   "execution_count": 4,
   "id": "6675ec73",
   "metadata": {},
   "outputs": [
    {
     "data": {
      "text/plain": [
       "(2075259, 9)"
      ]
     },
     "execution_count": 4,
     "metadata": {},
     "output_type": "execute_result"
    }
   ],
   "source": [
    "df.shape"
   ]
  },
  {
   "cell_type": "code",
   "execution_count": 5,
   "id": "55c362af",
   "metadata": {},
   "outputs": [
    {
     "data": {
      "text/plain": [
       "Date                         0\n",
       "Time                         0\n",
       "Global_active_power          0\n",
       "Global_reactive_power        0\n",
       "Voltage                      0\n",
       "Global_intensity             0\n",
       "Sub_metering_1               0\n",
       "Sub_metering_2               0\n",
       "Sub_metering_3           25979\n",
       "dtype: int64"
      ]
     },
     "execution_count": 5,
     "metadata": {},
     "output_type": "execute_result"
    }
   ],
   "source": [
    "df.isnull().sum()"
   ]
  },
  {
   "cell_type": "markdown",
   "id": "cfe84265",
   "metadata": {},
   "source": [
    "Sub_metering_3 is a very important variable, so that we cannot just drop. I'm going to make a treatment after the analysis"
   ]
  },
  {
   "cell_type": "code",
   "execution_count": 6,
   "id": "cd7d5663",
   "metadata": {},
   "outputs": [
    {
     "data": {
      "text/plain": [
       "Date                      object\n",
       "Time                      object\n",
       "Global_active_power       object\n",
       "Global_reactive_power     object\n",
       "Voltage                   object\n",
       "Global_intensity          object\n",
       "Sub_metering_1            object\n",
       "Sub_metering_2            object\n",
       "Sub_metering_3           float64\n",
       "dtype: object"
      ]
     },
     "execution_count": 6,
     "metadata": {},
     "output_type": "execute_result"
    }
   ],
   "source": [
    "df.dtypes"
   ]
  },
  {
   "cell_type": "markdown",
   "id": "6f3493bc",
   "metadata": {},
   "source": [
    "During the exploration on the data, it was realized that there are thousands of registers with a \"?\", rather than its information.\n",
    "\n",
    "So that, we need to take it out from the entire dataframe"
   ]
  },
  {
   "cell_type": "code",
   "execution_count": 7,
   "id": "0ce7ed09",
   "metadata": {},
   "outputs": [
    {
     "data": {
      "text/html": [
       "<div>\n",
       "<style scoped>\n",
       "    .dataframe tbody tr th:only-of-type {\n",
       "        vertical-align: middle;\n",
       "    }\n",
       "\n",
       "    .dataframe tbody tr th {\n",
       "        vertical-align: top;\n",
       "    }\n",
       "\n",
       "    .dataframe thead th {\n",
       "        text-align: right;\n",
       "    }\n",
       "</style>\n",
       "<table border=\"1\" class=\"dataframe\">\n",
       "  <thead>\n",
       "    <tr style=\"text-align: right;\">\n",
       "      <th></th>\n",
       "      <th>Date</th>\n",
       "      <th>Time</th>\n",
       "      <th>Global_active_power</th>\n",
       "      <th>Global_reactive_power</th>\n",
       "      <th>Voltage</th>\n",
       "      <th>Global_intensity</th>\n",
       "      <th>Sub_metering_1</th>\n",
       "      <th>Sub_metering_2</th>\n",
       "      <th>Sub_metering_3</th>\n",
       "    </tr>\n",
       "  </thead>\n",
       "  <tbody>\n",
       "    <tr>\n",
       "      <th>0</th>\n",
       "      <td>16/12/2006</td>\n",
       "      <td>17:24:00</td>\n",
       "      <td>4.216</td>\n",
       "      <td>0.418</td>\n",
       "      <td>234.840</td>\n",
       "      <td>18.400</td>\n",
       "      <td>0.000</td>\n",
       "      <td>1.000</td>\n",
       "      <td>17.0</td>\n",
       "    </tr>\n",
       "    <tr>\n",
       "      <th>1</th>\n",
       "      <td>16/12/2006</td>\n",
       "      <td>17:25:00</td>\n",
       "      <td>5.360</td>\n",
       "      <td>0.436</td>\n",
       "      <td>233.630</td>\n",
       "      <td>23.000</td>\n",
       "      <td>0.000</td>\n",
       "      <td>1.000</td>\n",
       "      <td>16.0</td>\n",
       "    </tr>\n",
       "    <tr>\n",
       "      <th>2</th>\n",
       "      <td>16/12/2006</td>\n",
       "      <td>17:26:00</td>\n",
       "      <td>5.374</td>\n",
       "      <td>0.498</td>\n",
       "      <td>233.290</td>\n",
       "      <td>23.000</td>\n",
       "      <td>0.000</td>\n",
       "      <td>2.000</td>\n",
       "      <td>17.0</td>\n",
       "    </tr>\n",
       "    <tr>\n",
       "      <th>3</th>\n",
       "      <td>16/12/2006</td>\n",
       "      <td>17:27:00</td>\n",
       "      <td>5.388</td>\n",
       "      <td>0.502</td>\n",
       "      <td>233.740</td>\n",
       "      <td>23.000</td>\n",
       "      <td>0.000</td>\n",
       "      <td>1.000</td>\n",
       "      <td>17.0</td>\n",
       "    </tr>\n",
       "    <tr>\n",
       "      <th>4</th>\n",
       "      <td>16/12/2006</td>\n",
       "      <td>17:28:00</td>\n",
       "      <td>3.666</td>\n",
       "      <td>0.528</td>\n",
       "      <td>235.680</td>\n",
       "      <td>15.800</td>\n",
       "      <td>0.000</td>\n",
       "      <td>1.000</td>\n",
       "      <td>17.0</td>\n",
       "    </tr>\n",
       "    <tr>\n",
       "      <th>...</th>\n",
       "      <td>...</td>\n",
       "      <td>...</td>\n",
       "      <td>...</td>\n",
       "      <td>...</td>\n",
       "      <td>...</td>\n",
       "      <td>...</td>\n",
       "      <td>...</td>\n",
       "      <td>...</td>\n",
       "      <td>...</td>\n",
       "    </tr>\n",
       "    <tr>\n",
       "      <th>2075254</th>\n",
       "      <td>26/11/2010</td>\n",
       "      <td>20:58:00</td>\n",
       "      <td>0.946</td>\n",
       "      <td>0.0</td>\n",
       "      <td>240.43</td>\n",
       "      <td>4.0</td>\n",
       "      <td>0.0</td>\n",
       "      <td>0.0</td>\n",
       "      <td>0.0</td>\n",
       "    </tr>\n",
       "    <tr>\n",
       "      <th>2075255</th>\n",
       "      <td>26/11/2010</td>\n",
       "      <td>20:59:00</td>\n",
       "      <td>0.944</td>\n",
       "      <td>0.0</td>\n",
       "      <td>240.0</td>\n",
       "      <td>4.0</td>\n",
       "      <td>0.0</td>\n",
       "      <td>0.0</td>\n",
       "      <td>0.0</td>\n",
       "    </tr>\n",
       "    <tr>\n",
       "      <th>2075256</th>\n",
       "      <td>26/11/2010</td>\n",
       "      <td>21:00:00</td>\n",
       "      <td>0.938</td>\n",
       "      <td>0.0</td>\n",
       "      <td>239.82</td>\n",
       "      <td>3.8</td>\n",
       "      <td>0.0</td>\n",
       "      <td>0.0</td>\n",
       "      <td>0.0</td>\n",
       "    </tr>\n",
       "    <tr>\n",
       "      <th>2075257</th>\n",
       "      <td>26/11/2010</td>\n",
       "      <td>21:01:00</td>\n",
       "      <td>0.934</td>\n",
       "      <td>0.0</td>\n",
       "      <td>239.7</td>\n",
       "      <td>3.8</td>\n",
       "      <td>0.0</td>\n",
       "      <td>0.0</td>\n",
       "      <td>0.0</td>\n",
       "    </tr>\n",
       "    <tr>\n",
       "      <th>2075258</th>\n",
       "      <td>26/11/2010</td>\n",
       "      <td>21:02:00</td>\n",
       "      <td>0.932</td>\n",
       "      <td>0.0</td>\n",
       "      <td>239.55</td>\n",
       "      <td>3.8</td>\n",
       "      <td>0.0</td>\n",
       "      <td>0.0</td>\n",
       "      <td>0.0</td>\n",
       "    </tr>\n",
       "  </tbody>\n",
       "</table>\n",
       "<p>2049280 rows × 9 columns</p>\n",
       "</div>"
      ],
      "text/plain": [
       "               Date      Time Global_active_power Global_reactive_power  \\\n",
       "0        16/12/2006  17:24:00               4.216                 0.418   \n",
       "1        16/12/2006  17:25:00               5.360                 0.436   \n",
       "2        16/12/2006  17:26:00               5.374                 0.498   \n",
       "3        16/12/2006  17:27:00               5.388                 0.502   \n",
       "4        16/12/2006  17:28:00               3.666                 0.528   \n",
       "...             ...       ...                 ...                   ...   \n",
       "2075254  26/11/2010  20:58:00               0.946                   0.0   \n",
       "2075255  26/11/2010  20:59:00               0.944                   0.0   \n",
       "2075256  26/11/2010  21:00:00               0.938                   0.0   \n",
       "2075257  26/11/2010  21:01:00               0.934                   0.0   \n",
       "2075258  26/11/2010  21:02:00               0.932                   0.0   \n",
       "\n",
       "         Voltage Global_intensity Sub_metering_1 Sub_metering_2  \\\n",
       "0        234.840           18.400          0.000          1.000   \n",
       "1        233.630           23.000          0.000          1.000   \n",
       "2        233.290           23.000          0.000          2.000   \n",
       "3        233.740           23.000          0.000          1.000   \n",
       "4        235.680           15.800          0.000          1.000   \n",
       "...          ...              ...            ...            ...   \n",
       "2075254   240.43              4.0            0.0            0.0   \n",
       "2075255    240.0              4.0            0.0            0.0   \n",
       "2075256   239.82              3.8            0.0            0.0   \n",
       "2075257    239.7              3.8            0.0            0.0   \n",
       "2075258   239.55              3.8            0.0            0.0   \n",
       "\n",
       "         Sub_metering_3  \n",
       "0                  17.0  \n",
       "1                  16.0  \n",
       "2                  17.0  \n",
       "3                  17.0  \n",
       "4                  17.0  \n",
       "...                 ...  \n",
       "2075254             0.0  \n",
       "2075255             0.0  \n",
       "2075256             0.0  \n",
       "2075257             0.0  \n",
       "2075258             0.0  \n",
       "\n",
       "[2049280 rows x 9 columns]"
      ]
     },
     "execution_count": 7,
     "metadata": {},
     "output_type": "execute_result"
    }
   ],
   "source": [
    "df = df[df['Global_active_power']!='?']\n",
    "df"
   ]
  },
  {
   "cell_type": "code",
   "execution_count": 8,
   "id": "73e25cb6",
   "metadata": {},
   "outputs": [],
   "source": [
    "for i in df.columns:\n",
    "    if i != \"Date\" and i != \"Time\":\n",
    "        df[i] = pd.to_numeric(df[i])"
   ]
  },
  {
   "cell_type": "code",
   "execution_count": 9,
   "id": "bbb6b790",
   "metadata": {},
   "outputs": [
    {
     "data": {
      "text/plain": [
       "Date                      object\n",
       "Time                      object\n",
       "Global_active_power      float64\n",
       "Global_reactive_power    float64\n",
       "Voltage                  float64\n",
       "Global_intensity         float64\n",
       "Sub_metering_1           float64\n",
       "Sub_metering_2           float64\n",
       "Sub_metering_3           float64\n",
       "dtype: object"
      ]
     },
     "execution_count": 9,
     "metadata": {},
     "output_type": "execute_result"
    }
   ],
   "source": [
    "df.dtypes"
   ]
  },
  {
   "cell_type": "code",
   "execution_count": 10,
   "id": "180ee803",
   "metadata": {},
   "outputs": [
    {
     "data": {
      "text/plain": [
       "Date                     0\n",
       "Time                     0\n",
       "Global_active_power      0\n",
       "Global_reactive_power    0\n",
       "Voltage                  0\n",
       "Global_intensity         0\n",
       "Sub_metering_1           0\n",
       "Sub_metering_2           0\n",
       "Sub_metering_3           0\n",
       "dtype: int64"
      ]
     },
     "execution_count": 10,
     "metadata": {},
     "output_type": "execute_result"
    }
   ],
   "source": [
    "# Treating Missing Values\n",
    "df.isnull().sum()"
   ]
  },
  {
   "cell_type": "markdown",
   "id": "39e0ff87",
   "metadata": {},
   "source": [
    "Now that we have treated the data with \"?\", It was possible to visualize that all date wich were with that string, was the date which was missing from the \"Sub_metering_3\".\n",
    "\n",
    "In this case, there are no missing values anymore."
   ]
  },
  {
   "cell_type": "markdown",
   "id": "21f2141b",
   "metadata": {},
   "source": [
    "#### Separating DataFrame"
   ]
  },
  {
   "cell_type": "markdown",
   "id": "9b475956",
   "metadata": {},
   "source": [
    "In this particular case, we have got 2.075.259 registers. That might cause a high memory consumption on my computer.\n",
    "So that I'm going to use 5% of the dataframe."
   ]
  },
  {
   "cell_type": "code",
   "execution_count": 11,
   "id": "c0911a18",
   "metadata": {},
   "outputs": [
    {
     "data": {
      "text/plain": [
       "(20493, 9)"
      ]
     },
     "execution_count": 11,
     "metadata": {},
     "output_type": "execute_result"
    }
   ],
   "source": [
    "# generating Index\n",
    "amount_index = round(df.shape[0] * 0.01)\n",
    "\n",
    "df_1 = df.iloc[0:amount_index, :]\n",
    "df_1.shape"
   ]
  },
  {
   "cell_type": "code",
   "execution_count": 12,
   "id": "7b7485d5",
   "metadata": {},
   "outputs": [
    {
     "data": {
      "text/html": [
       "<div>\n",
       "<style scoped>\n",
       "    .dataframe tbody tr th:only-of-type {\n",
       "        vertical-align: middle;\n",
       "    }\n",
       "\n",
       "    .dataframe tbody tr th {\n",
       "        vertical-align: top;\n",
       "    }\n",
       "\n",
       "    .dataframe thead th {\n",
       "        text-align: right;\n",
       "    }\n",
       "</style>\n",
       "<table border=\"1\" class=\"dataframe\">\n",
       "  <thead>\n",
       "    <tr style=\"text-align: right;\">\n",
       "      <th></th>\n",
       "      <th>Date</th>\n",
       "      <th>Time</th>\n",
       "      <th>Global_active_power</th>\n",
       "      <th>Global_reactive_power</th>\n",
       "      <th>Voltage</th>\n",
       "      <th>Global_intensity</th>\n",
       "      <th>Sub_metering_1</th>\n",
       "      <th>Sub_metering_2</th>\n",
       "      <th>Sub_metering_3</th>\n",
       "    </tr>\n",
       "  </thead>\n",
       "  <tbody>\n",
       "    <tr>\n",
       "      <th>0</th>\n",
       "      <td>16/12/2006</td>\n",
       "      <td>17:24:00</td>\n",
       "      <td>4.216</td>\n",
       "      <td>0.418</td>\n",
       "      <td>234.84</td>\n",
       "      <td>18.4</td>\n",
       "      <td>0.0</td>\n",
       "      <td>1.0</td>\n",
       "      <td>17.0</td>\n",
       "    </tr>\n",
       "    <tr>\n",
       "      <th>1</th>\n",
       "      <td>16/12/2006</td>\n",
       "      <td>17:25:00</td>\n",
       "      <td>5.360</td>\n",
       "      <td>0.436</td>\n",
       "      <td>233.63</td>\n",
       "      <td>23.0</td>\n",
       "      <td>0.0</td>\n",
       "      <td>1.0</td>\n",
       "      <td>16.0</td>\n",
       "    </tr>\n",
       "    <tr>\n",
       "      <th>2</th>\n",
       "      <td>16/12/2006</td>\n",
       "      <td>17:26:00</td>\n",
       "      <td>5.374</td>\n",
       "      <td>0.498</td>\n",
       "      <td>233.29</td>\n",
       "      <td>23.0</td>\n",
       "      <td>0.0</td>\n",
       "      <td>2.0</td>\n",
       "      <td>17.0</td>\n",
       "    </tr>\n",
       "    <tr>\n",
       "      <th>3</th>\n",
       "      <td>16/12/2006</td>\n",
       "      <td>17:27:00</td>\n",
       "      <td>5.388</td>\n",
       "      <td>0.502</td>\n",
       "      <td>233.74</td>\n",
       "      <td>23.0</td>\n",
       "      <td>0.0</td>\n",
       "      <td>1.0</td>\n",
       "      <td>17.0</td>\n",
       "    </tr>\n",
       "    <tr>\n",
       "      <th>4</th>\n",
       "      <td>16/12/2006</td>\n",
       "      <td>17:28:00</td>\n",
       "      <td>3.666</td>\n",
       "      <td>0.528</td>\n",
       "      <td>235.68</td>\n",
       "      <td>15.8</td>\n",
       "      <td>0.0</td>\n",
       "      <td>1.0</td>\n",
       "      <td>17.0</td>\n",
       "    </tr>\n",
       "    <tr>\n",
       "      <th>...</th>\n",
       "      <td>...</td>\n",
       "      <td>...</td>\n",
       "      <td>...</td>\n",
       "      <td>...</td>\n",
       "      <td>...</td>\n",
       "      <td>...</td>\n",
       "      <td>...</td>\n",
       "      <td>...</td>\n",
       "      <td>...</td>\n",
       "    </tr>\n",
       "    <tr>\n",
       "      <th>20492</th>\n",
       "      <td>30/12/2006</td>\n",
       "      <td>22:56:00</td>\n",
       "      <td>0.386</td>\n",
       "      <td>0.250</td>\n",
       "      <td>241.57</td>\n",
       "      <td>1.8</td>\n",
       "      <td>0.0</td>\n",
       "      <td>0.0</td>\n",
       "      <td>0.0</td>\n",
       "    </tr>\n",
       "    <tr>\n",
       "      <th>20493</th>\n",
       "      <td>30/12/2006</td>\n",
       "      <td>22:57:00</td>\n",
       "      <td>0.386</td>\n",
       "      <td>0.256</td>\n",
       "      <td>242.60</td>\n",
       "      <td>1.8</td>\n",
       "      <td>0.0</td>\n",
       "      <td>0.0</td>\n",
       "      <td>0.0</td>\n",
       "    </tr>\n",
       "    <tr>\n",
       "      <th>20494</th>\n",
       "      <td>30/12/2006</td>\n",
       "      <td>22:58:00</td>\n",
       "      <td>0.386</td>\n",
       "      <td>0.258</td>\n",
       "      <td>242.91</td>\n",
       "      <td>1.8</td>\n",
       "      <td>0.0</td>\n",
       "      <td>0.0</td>\n",
       "      <td>0.0</td>\n",
       "    </tr>\n",
       "    <tr>\n",
       "      <th>20495</th>\n",
       "      <td>30/12/2006</td>\n",
       "      <td>22:59:00</td>\n",
       "      <td>0.382</td>\n",
       "      <td>0.258</td>\n",
       "      <td>242.54</td>\n",
       "      <td>1.8</td>\n",
       "      <td>0.0</td>\n",
       "      <td>0.0</td>\n",
       "      <td>0.0</td>\n",
       "    </tr>\n",
       "    <tr>\n",
       "      <th>20496</th>\n",
       "      <td>30/12/2006</td>\n",
       "      <td>23:00:00</td>\n",
       "      <td>0.372</td>\n",
       "      <td>0.250</td>\n",
       "      <td>241.45</td>\n",
       "      <td>1.8</td>\n",
       "      <td>0.0</td>\n",
       "      <td>0.0</td>\n",
       "      <td>0.0</td>\n",
       "    </tr>\n",
       "  </tbody>\n",
       "</table>\n",
       "<p>20493 rows × 9 columns</p>\n",
       "</div>"
      ],
      "text/plain": [
       "             Date      Time  Global_active_power  Global_reactive_power  \\\n",
       "0      16/12/2006  17:24:00                4.216                  0.418   \n",
       "1      16/12/2006  17:25:00                5.360                  0.436   \n",
       "2      16/12/2006  17:26:00                5.374                  0.498   \n",
       "3      16/12/2006  17:27:00                5.388                  0.502   \n",
       "4      16/12/2006  17:28:00                3.666                  0.528   \n",
       "...           ...       ...                  ...                    ...   \n",
       "20492  30/12/2006  22:56:00                0.386                  0.250   \n",
       "20493  30/12/2006  22:57:00                0.386                  0.256   \n",
       "20494  30/12/2006  22:58:00                0.386                  0.258   \n",
       "20495  30/12/2006  22:59:00                0.382                  0.258   \n",
       "20496  30/12/2006  23:00:00                0.372                  0.250   \n",
       "\n",
       "       Voltage  Global_intensity  Sub_metering_1  Sub_metering_2  \\\n",
       "0       234.84              18.4             0.0             1.0   \n",
       "1       233.63              23.0             0.0             1.0   \n",
       "2       233.29              23.0             0.0             2.0   \n",
       "3       233.74              23.0             0.0             1.0   \n",
       "4       235.68              15.8             0.0             1.0   \n",
       "...        ...               ...             ...             ...   \n",
       "20492   241.57               1.8             0.0             0.0   \n",
       "20493   242.60               1.8             0.0             0.0   \n",
       "20494   242.91               1.8             0.0             0.0   \n",
       "20495   242.54               1.8             0.0             0.0   \n",
       "20496   241.45               1.8             0.0             0.0   \n",
       "\n",
       "       Sub_metering_3  \n",
       "0                17.0  \n",
       "1                16.0  \n",
       "2                17.0  \n",
       "3                17.0  \n",
       "4                17.0  \n",
       "...               ...  \n",
       "20492             0.0  \n",
       "20493             0.0  \n",
       "20494             0.0  \n",
       "20495             0.0  \n",
       "20496             0.0  \n",
       "\n",
       "[20493 rows x 9 columns]"
      ]
     },
     "execution_count": 12,
     "metadata": {},
     "output_type": "execute_result"
    }
   ],
   "source": [
    "df_1"
   ]
  },
  {
   "cell_type": "code",
   "execution_count": 13,
   "id": "d94c11f7",
   "metadata": {},
   "outputs": [
    {
     "data": {
      "text/html": [
       "<div>\n",
       "<style scoped>\n",
       "    .dataframe tbody tr th:only-of-type {\n",
       "        vertical-align: middle;\n",
       "    }\n",
       "\n",
       "    .dataframe tbody tr th {\n",
       "        vertical-align: top;\n",
       "    }\n",
       "\n",
       "    .dataframe thead th {\n",
       "        text-align: right;\n",
       "    }\n",
       "</style>\n",
       "<table border=\"1\" class=\"dataframe\">\n",
       "  <thead>\n",
       "    <tr style=\"text-align: right;\">\n",
       "      <th></th>\n",
       "      <th>Global_active_power</th>\n",
       "      <th>Global_reactive_power</th>\n",
       "      <th>Voltage</th>\n",
       "      <th>Global_intensity</th>\n",
       "      <th>Sub_metering_1</th>\n",
       "      <th>Sub_metering_2</th>\n",
       "      <th>Sub_metering_3</th>\n",
       "    </tr>\n",
       "  </thead>\n",
       "  <tbody>\n",
       "    <tr>\n",
       "      <th>count</th>\n",
       "      <td>20493.000000</td>\n",
       "      <td>20493.000000</td>\n",
       "      <td>20493.000000</td>\n",
       "      <td>20493.000000</td>\n",
       "      <td>20493.000000</td>\n",
       "      <td>20493.000000</td>\n",
       "      <td>20493.000000</td>\n",
       "    </tr>\n",
       "    <tr>\n",
       "      <th>mean</th>\n",
       "      <td>1.867801</td>\n",
       "      <td>0.133474</td>\n",
       "      <td>241.548748</td>\n",
       "      <td>7.891446</td>\n",
       "      <td>1.339970</td>\n",
       "      <td>2.360074</td>\n",
       "      <td>7.634265</td>\n",
       "    </tr>\n",
       "    <tr>\n",
       "      <th>std</th>\n",
       "      <td>1.426992</td>\n",
       "      <td>0.121117</td>\n",
       "      <td>3.927192</td>\n",
       "      <td>6.001054</td>\n",
       "      <td>6.883347</td>\n",
       "      <td>8.733469</td>\n",
       "      <td>8.694727</td>\n",
       "    </tr>\n",
       "    <tr>\n",
       "      <th>min</th>\n",
       "      <td>0.194000</td>\n",
       "      <td>0.000000</td>\n",
       "      <td>228.200000</td>\n",
       "      <td>0.800000</td>\n",
       "      <td>0.000000</td>\n",
       "      <td>0.000000</td>\n",
       "      <td>0.000000</td>\n",
       "    </tr>\n",
       "    <tr>\n",
       "      <th>25%</th>\n",
       "      <td>0.484000</td>\n",
       "      <td>0.046000</td>\n",
       "      <td>238.900000</td>\n",
       "      <td>2.200000</td>\n",
       "      <td>0.000000</td>\n",
       "      <td>0.000000</td>\n",
       "      <td>0.000000</td>\n",
       "    </tr>\n",
       "    <tr>\n",
       "      <th>50%</th>\n",
       "      <td>1.622000</td>\n",
       "      <td>0.116000</td>\n",
       "      <td>241.810000</td>\n",
       "      <td>6.800000</td>\n",
       "      <td>0.000000</td>\n",
       "      <td>0.000000</td>\n",
       "      <td>0.000000</td>\n",
       "    </tr>\n",
       "    <tr>\n",
       "      <th>75%</th>\n",
       "      <td>2.636000</td>\n",
       "      <td>0.200000</td>\n",
       "      <td>244.480000</td>\n",
       "      <td>11.200000</td>\n",
       "      <td>0.000000</td>\n",
       "      <td>1.000000</td>\n",
       "      <td>17.000000</td>\n",
       "    </tr>\n",
       "    <tr>\n",
       "      <th>max</th>\n",
       "      <td>9.132000</td>\n",
       "      <td>0.800000</td>\n",
       "      <td>251.700000</td>\n",
       "      <td>39.400000</td>\n",
       "      <td>77.000000</td>\n",
       "      <td>74.000000</td>\n",
       "      <td>20.000000</td>\n",
       "    </tr>\n",
       "  </tbody>\n",
       "</table>\n",
       "</div>"
      ],
      "text/plain": [
       "       Global_active_power  Global_reactive_power       Voltage  \\\n",
       "count         20493.000000           20493.000000  20493.000000   \n",
       "mean              1.867801               0.133474    241.548748   \n",
       "std               1.426992               0.121117      3.927192   \n",
       "min               0.194000               0.000000    228.200000   \n",
       "25%               0.484000               0.046000    238.900000   \n",
       "50%               1.622000               0.116000    241.810000   \n",
       "75%               2.636000               0.200000    244.480000   \n",
       "max               9.132000               0.800000    251.700000   \n",
       "\n",
       "       Global_intensity  Sub_metering_1  Sub_metering_2  Sub_metering_3  \n",
       "count      20493.000000    20493.000000    20493.000000    20493.000000  \n",
       "mean           7.891446        1.339970        2.360074        7.634265  \n",
       "std            6.001054        6.883347        8.733469        8.694727  \n",
       "min            0.800000        0.000000        0.000000        0.000000  \n",
       "25%            2.200000        0.000000        0.000000        0.000000  \n",
       "50%            6.800000        0.000000        0.000000        0.000000  \n",
       "75%           11.200000        0.000000        1.000000       17.000000  \n",
       "max           39.400000       77.000000       74.000000       20.000000  "
      ]
     },
     "execution_count": 13,
     "metadata": {},
     "output_type": "execute_result"
    }
   ],
   "source": [
    "df_1.describe()"
   ]
  },
  {
   "cell_type": "code",
   "execution_count": 14,
   "id": "103e0933",
   "metadata": {},
   "outputs": [
    {
     "data": {
      "image/png": "[encoded data removed]",
      "text/plain": [
       "<Figure size 720x576 with 9 Axes>"
      ]
     },
     "metadata": {
      "needs_background": "light"
     },
     "output_type": "display_data"
    }
   ],
   "source": [
    "df_1.hist(figsize=(10,8), bins=10)\n",
    "plt.show()"
   ]
  },
  {
   "cell_type": "code",
   "execution_count": 15,
   "id": "e8d54004",
   "metadata": {},
   "outputs": [
    {
     "data": {
      "text/html": [
       "<div>\n",
       "<style scoped>\n",
       "    .dataframe tbody tr th:only-of-type {\n",
       "        vertical-align: middle;\n",
       "    }\n",
       "\n",
       "    .dataframe tbody tr th {\n",
       "        vertical-align: top;\n",
       "    }\n",
       "\n",
       "    .dataframe thead th {\n",
       "        text-align: right;\n",
       "    }\n",
       "</style>\n",
       "<table border=\"1\" class=\"dataframe\">\n",
       "  <thead>\n",
       "    <tr style=\"text-align: right;\">\n",
       "      <th></th>\n",
       "      <th>Global_active_power</th>\n",
       "      <th>Global_reactive_power</th>\n",
       "      <th>Voltage</th>\n",
       "      <th>Global_intensity</th>\n",
       "      <th>Sub_metering_1</th>\n",
       "      <th>Sub_metering_2</th>\n",
       "      <th>Sub_metering_3</th>\n",
       "    </tr>\n",
       "  </thead>\n",
       "  <tbody>\n",
       "    <tr>\n",
       "      <th>Global_active_power</th>\n",
       "      <td>1.000000</td>\n",
       "      <td>0.223530</td>\n",
       "      <td>-0.647289</td>\n",
       "      <td>0.998655</td>\n",
       "      <td>0.387026</td>\n",
       "      <td>0.384222</td>\n",
       "      <td>0.535812</td>\n",
       "    </tr>\n",
       "    <tr>\n",
       "      <th>Global_reactive_power</th>\n",
       "      <td>0.223530</td>\n",
       "      <td>1.000000</td>\n",
       "      <td>-0.147997</td>\n",
       "      <td>0.233278</td>\n",
       "      <td>0.075719</td>\n",
       "      <td>0.125012</td>\n",
       "      <td>0.079339</td>\n",
       "    </tr>\n",
       "    <tr>\n",
       "      <th>Voltage</th>\n",
       "      <td>-0.647289</td>\n",
       "      <td>-0.147997</td>\n",
       "      <td>1.000000</td>\n",
       "      <td>-0.653697</td>\n",
       "      <td>-0.223929</td>\n",
       "      <td>-0.222241</td>\n",
       "      <td>-0.488880</td>\n",
       "    </tr>\n",
       "    <tr>\n",
       "      <th>Global_intensity</th>\n",
       "      <td>0.998655</td>\n",
       "      <td>0.233278</td>\n",
       "      <td>-0.653697</td>\n",
       "      <td>1.000000</td>\n",
       "      <td>0.390884</td>\n",
       "      <td>0.389506</td>\n",
       "      <td>0.527737</td>\n",
       "    </tr>\n",
       "    <tr>\n",
       "      <th>Sub_metering_1</th>\n",
       "      <td>0.387026</td>\n",
       "      <td>0.075719</td>\n",
       "      <td>-0.223929</td>\n",
       "      <td>0.390884</td>\n",
       "      <td>1.000000</td>\n",
       "      <td>0.052024</td>\n",
       "      <td>0.084996</td>\n",
       "    </tr>\n",
       "    <tr>\n",
       "      <th>Sub_metering_2</th>\n",
       "      <td>0.384222</td>\n",
       "      <td>0.125012</td>\n",
       "      <td>-0.222241</td>\n",
       "      <td>0.389506</td>\n",
       "      <td>0.052024</td>\n",
       "      <td>1.000000</td>\n",
       "      <td>0.049669</td>\n",
       "    </tr>\n",
       "    <tr>\n",
       "      <th>Sub_metering_3</th>\n",
       "      <td>0.535812</td>\n",
       "      <td>0.079339</td>\n",
       "      <td>-0.488880</td>\n",
       "      <td>0.527737</td>\n",
       "      <td>0.084996</td>\n",
       "      <td>0.049669</td>\n",
       "      <td>1.000000</td>\n",
       "    </tr>\n",
       "  </tbody>\n",
       "</table>\n",
       "</div>"
      ],
      "text/plain": [
       "                       Global_active_power  Global_reactive_power   Voltage  \\\n",
       "Global_active_power               1.000000               0.223530 -0.647289   \n",
       "Global_reactive_power             0.223530               1.000000 -0.147997   \n",
       "Voltage                          -0.647289              -0.147997  1.000000   \n",
       "Global_intensity                  0.998655               0.233278 -0.653697   \n",
       "Sub_metering_1                    0.387026               0.075719 -0.223929   \n",
       "Sub_metering_2                    0.384222               0.125012 -0.222241   \n",
       "Sub_metering_3                    0.535812               0.079339 -0.488880   \n",
       "\n",
       "                       Global_intensity  Sub_metering_1  Sub_metering_2  \\\n",
       "Global_active_power            0.998655        0.387026        0.384222   \n",
       "Global_reactive_power          0.233278        0.075719        0.125012   \n",
       "Voltage                       -0.653697       -0.223929       -0.222241   \n",
       "Global_intensity               1.000000        0.390884        0.389506   \n",
       "Sub_metering_1                 0.390884        1.000000        0.052024   \n",
       "Sub_metering_2                 0.389506        0.052024        1.000000   \n",
       "Sub_metering_3                 0.527737        0.084996        0.049669   \n",
       "\n",
       "                       Sub_metering_3  \n",
       "Global_active_power          0.535812  \n",
       "Global_reactive_power        0.079339  \n",
       "Voltage                     -0.488880  \n",
       "Global_intensity             0.527737  \n",
       "Sub_metering_1               0.084996  \n",
       "Sub_metering_2               0.049669  \n",
       "Sub_metering_3               1.000000  "
      ]
     },
     "execution_count": 15,
     "metadata": {},
     "output_type": "execute_result"
    }
   ],
   "source": [
    "# Data Correlation\n",
    "correlation = df_1.corr()\n",
    "correlation"
   ]
  },
  {
   "cell_type": "code",
   "execution_count": 16,
   "id": "a1983129",
   "metadata": {},
   "outputs": [
    {
     "data": {
      "text/plain": [
       "<AxesSubplot:>"
      ]
     },
     "execution_count": 16,
     "metadata": {},
     "output_type": "execute_result"
    },
    {
     "data": {
      "image/png": "[encoded data removed]",
      "text/plain": [
       "<Figure size 432x288 with 2 Axes>"
      ]
     },
     "metadata": {
      "needs_background": "light"
     },
     "output_type": "display_data"
    }
   ],
   "source": [
    "cmap = sns.color_palette(\"vlag\", as_cmap=True)\n",
    "\n",
    "sns.heatmap(correlation, cmap = cmap, linewidths= 1, linecolor='lightgray')"
   ]
  },
  {
   "cell_type": "code",
   "execution_count": 17,
   "id": "4dda34a2",
   "metadata": {},
   "outputs": [],
   "source": [
    "df_2 = df_1.copy()\n",
    "df_2 = df_2.drop(['Date', 'Time'], axis = 1)"
   ]
  },
  {
   "cell_type": "code",
   "execution_count": 18,
   "id": "13fd417c",
   "metadata": {},
   "outputs": [
    {
     "data": {
      "text/plain": [
       "array([[12.10377363, -6.89055793],\n",
       "       [14.15578251, -6.44530152],\n",
       "       [15.35204155, -6.21075036],\n",
       "       ...,\n",
       "       [-9.78373038,  2.57086904],\n",
       "       [-9.69111505,  2.54803062],\n",
       "       [-9.41808484,  2.48073753]])"
      ]
     },
     "execution_count": 18,
     "metadata": {},
     "output_type": "execute_result"
    }
   ],
   "source": [
    "# Reducing dimension of the dataframe\n",
    "pca = PCA(n_components=2).fit_transform(df_2)\n",
    "pca"
   ]
  },
  {
   "cell_type": "code",
   "execution_count": 19,
   "id": "e8c0fef8",
   "metadata": {},
   "outputs": [
    {
     "data": {
      "text/plain": [
       "DBSCAN(eps=0.8)"
      ]
     },
     "execution_count": 19,
     "metadata": {},
     "output_type": "execute_result"
    }
   ],
   "source": [
    "# Creating DBSCAN Model to understand how mony labels we have into the data\n",
    "dbscan_v1 = DBSCAN(eps = 0.8, metric = 'euclidean')\n",
    "dbscan_v1.fit(pca)"
   ]
  },
  {
   "cell_type": "code",
   "execution_count": 20,
   "id": "39b6afcf",
   "metadata": {},
   "outputs": [
    {
     "name": "stdout",
     "output_type": "stream",
     "text": [
      "[-1  0  1  2  3  4  5  6  7  8  9 10 11 12 13 14 15 16 17 18 19 20 21 22\n",
      " 23]\n"
     ]
    }
   ],
   "source": [
    "print(np.unique(dbscan_v1.labels_))"
   ]
  },
  {
   "cell_type": "markdown",
   "id": "0df0155c",
   "metadata": {},
   "source": [
    "Now we have 24 labels and noises.\n",
    "\n",
    "In this case, We can create a KMeans predictor for each K number and evaluate each performance."
   ]
  },
  {
   "cell_type": "markdown",
   "id": "10d4f60e",
   "metadata": {},
   "source": [
    "### K-Means Elbow Method using Inertia"
   ]
  },
  {
   "cell_type": "code",
   "execution_count": 27,
   "id": "1c2f7315",
   "metadata": {},
   "outputs": [],
   "source": [
    "# Creating K-Means Model\n",
    "\n",
    "k_values = range(1,24)\n",
    "\n",
    "metrics = []\n",
    "\n",
    "for K in k_values:\n",
    "    \n",
    "    kmeans_ = KMeans(n_clusters= K).fit(pca)\n",
    "    metrics.append(kmeans_.inertia_)"
   ]
  },
  {
   "cell_type": "code",
   "execution_count": 31,
   "id": "6d66ad25",
   "metadata": {},
   "outputs": [
    {
     "data": {
      "image/png": "[encoded data removed]",
      "text/plain": [
       "<Figure size 1080x288 with 1 Axes>"
      ]
     },
     "metadata": {
      "needs_background": "light"
     },
     "output_type": "display_data"
    }
   ],
   "source": [
    "plt.plot(k_values, metrics, 'o-')\n",
    "plt.xticks(k_values)\n",
    "plt.xlabel(\"K Values\")\n",
    "plt.ylabel(\"Inertia\")\n",
    "plt.title(\"KMeans Elbow Method\", size = 15, fontweight = 'bold')\n",
    "\n",
    "plt.scatter(10,(0.1*1000000), marker= 'x', c='black', linewidths=2, s = 100)\n",
    "\n",
    "plt.show()"
   ]
  },
  {
   "cell_type": "code",
   "execution_count": 32,
   "id": "cc02f895",
   "metadata": {},
   "outputs": [],
   "source": [
    "cluster = 10\n",
    "\n",
    "kmeans_v1 = KMeans(n_clusters=cluster)\n",
    "y_pred = kmeans_v1.fit_predict(pca)"
   ]
  },
  {
   "cell_type": "code",
   "execution_count": 33,
   "id": "69a7964a",
   "metadata": {},
   "outputs": [
    {
     "data": {
      "image/png": "[encoded data removed]",
      "text/plain": [
       "<Figure size 1080x288 with 1 Axes>"
      ]
     },
     "metadata": {
      "needs_background": "light"
     },
     "output_type": "display_data"
    }
   ],
   "source": [
    "# Criando o classificador e construindo o modelo\n",
    "\n",
    "plt.title(\"K-means, K=%s\" % cluster)\n",
    "plt.scatter(pca[:, 0], pca[:, 1], c = y_pred, edgecolors = 'none')\n",
    "plt.scatter(kmeans_v1.cluster_centers_[:,0], kmeans_v1.cluster_centers_[:,1], marker = 'x', color = 'r', s = 100, linewidths = 4)\n",
    "\n",
    "plt.show()"
   ]
  },
  {
   "cell_type": "code",
   "execution_count": 41,
   "id": "1cb713c4",
   "metadata": {},
   "outputs": [
    {
     "data": {
      "image/png": "[encoded data removed]",
      "text/plain": [
       "<Figure size 4320x2880 with 3 Axes>"
      ]
     },
     "metadata": {
      "needs_background": "light"
     },
     "output_type": "display_data"
    }
   ],
   "source": [
    "from matplotlib import pylab\n",
    "pylab.rcParams['figure.figsize'] = (60, 40)\n",
    "\n",
    "for K in [9 , 10 , 11]:\n",
    "    \n",
    "    kmeans_v2 = KMeans(n_clusters= K)\n",
    "    y_pred = kmeans_v2.fit_predict(pca)\n",
    "    \n",
    "    plt.subplot(9, 11, K-1)\n",
    "    plt.title('K-Means -> K=%d' % K)\n",
    "    plt.scatter(pca[:,0], pca[:,1], c = y_pred, edgecolors= 'none')\n",
    "    plt.scatter(kmeans_v2.cluster_centers_[:,0],kmeans_v2.cluster_centers_[:,1], marker = 'x', s = 150, c = 'r', linewidths=4)"
   ]
  },
  {
   "cell_type": "markdown",
   "id": "5eb3d6c4",
   "metadata": {},
   "source": [
    "The K = 10, represents the elbow turn right before it becomes straight into the KMeans elbow method."
   ]
  },
  {
   "cell_type": "markdown",
   "id": "67dabe2e",
   "metadata": {},
   "source": [
    "### K-Means Elbow Method using Spacial Distance Calculation"
   ]
  },
  {
   "cell_type": "code",
   "execution_count": 57,
   "id": "28329039",
   "metadata": {},
   "outputs": [],
   "source": [
    "# Creating K-Means Model again - The Same Code as before, just to make it clearer\n",
    "\n",
    "k_values = range(1,24)\n",
    "\n",
    "metrics = []\n",
    "\n",
    "for K in k_values:\n",
    "    \n",
    "    kmeans_ = KMeans(n_clusters= K).fit(pca)\n",
    "    metrics.append(kmeans_)"
   ]
  },
  {
   "cell_type": "code",
   "execution_count": 58,
   "id": "c3a32b73",
   "metadata": {},
   "outputs": [],
   "source": [
    "# Adjusting Centroids of each cluster for each model\n",
    "centroids = [ i.cluster_centers_ for i in metrics ]"
   ]
  },
  {
   "cell_type": "code",
   "execution_count": 59,
   "id": "6050282f",
   "metadata": {},
   "outputs": [],
   "source": [
    "# Calculating euclidean distance from each centroid to suraound data.\n",
    "k_euclid = [cdist(pca,i, 'euclidean') for i in centroids]\n",
    "dist = [np.min(i, axis = 1) for i in k_euclid] "
   ]
  },
  {
   "cell_type": "code",
   "execution_count": 60,
   "id": "7395f9a8",
   "metadata": {},
   "outputs": [],
   "source": [
    "# Summarizing the squared distances into clusters\n",
    "sum_squared_intra = [sum(d**2) for d in dist]"
   ]
  },
  {
   "cell_type": "code",
   "execution_count": 61,
   "id": "6cd36828",
   "metadata": {},
   "outputs": [],
   "source": [
    "total_sum = sum(pdist(pca)**2)/pca.shape[0]"
   ]
  },
  {
   "cell_type": "code",
   "execution_count": 62,
   "id": "4fd8b260",
   "metadata": {},
   "outputs": [],
   "source": [
    "sum_squared_inter = total_sum - sum_squared_intra"
   ]
  },
  {
   "cell_type": "code",
   "execution_count": 80,
   "id": "b9238329",
   "metadata": {
    "scrolled": true
   },
   "outputs": [
    {
     "data": {
      "image/png": "[encoded data removed]",
      "text/plain": [
       "<Figure size 720x576 with 1 Axes>"
      ]
     },
     "metadata": {
      "needs_background": "light"
     },
     "output_type": "display_data"
    }
   ],
   "source": [
    "# Elbow Curve\n",
    "\n",
    "fig = plt.figure(figsize=(10,8))\n",
    "ax = fig.add_subplot(111)\n",
    "ax.plot(k_values, sum_squared_inter/total_sum *100, 'bo-')\n",
    "ax.set_ylim(0,100)\n",
    "plt.grid(True)\n",
    "plt.xlabel(\"Number of Clusters\")\n",
    "plt.ylabel(\"Explained Variance Percentage\")\n",
    "plt.title(\"Explained Variance X  K-Values\", fontweight = 'bold', size = 15)\n",
    "plt.show()"
   ]
  },
  {
   "cell_type": "markdown",
   "id": "80044bb3",
   "metadata": {},
   "source": [
    "In this case, this elbow curve indicates that values above 10 are flattening onto the data, so that, the minimum value to be considered is around 10.\n",
    "\n",
    "Let's create a silhouette score to make sure that we've selected the best K value."
   ]
  },
  {
   "cell_type": "markdown",
   "id": "41d41a09",
   "metadata": {},
   "source": [
    "### Silhouettte Score"
   ]
  },
  {
   "cell_type": "code",
   "execution_count": 65,
   "id": "b8b5d52c",
   "metadata": {},
   "outputs": [],
   "source": [
    "?silhouette_score"
   ]
  },
  {
   "cell_type": "markdown",
   "id": "dcedad05",
   "metadata": {},
   "source": [
    "The Silhouette Coefficient is calculated using the mean intra-cluster\n",
    "distance (``a``) and the mean nearest-cluster distance (``b``) for each\n",
    "sample.  The Silhouette Coefficient for a sample is ``(b - a) / max(a,\n",
    "b)``."
   ]
  },
  {
   "cell_type": "code",
   "execution_count": 66,
   "id": "40ed5d86",
   "metadata": {},
   "outputs": [
    {
     "data": {
      "text/plain": [
       "0.604777361099595"
      ]
     },
     "execution_count": 66,
     "metadata": {},
     "output_type": "execute_result"
    }
   ],
   "source": [
    "# Using original model -> kmeans_v1   K=10\n",
    "\n",
    "labels =kmeans_v1.labels_\n",
    "silhouette_score(pca, labels, metric='euclidean')"
   ]
  },
  {
   "cell_type": "markdown",
   "id": "352534a5",
   "metadata": {},
   "source": [
    "Considering the silhouette score presented above, I'm going to use a range of K values where the elbow curve start to platten until it gets flattened."
   ]
  },
  {
   "cell_type": "code",
   "execution_count": 76,
   "id": "46adc7aa",
   "metadata": {},
   "outputs": [],
   "source": [
    "k_values1 = range(8,14)\n",
    "\n",
    "silhouette_score_values = []\n",
    "\n",
    "for K in k_values1:\n",
    "    \n",
    "    kmeans_ = KMeans(n_clusters= K).fit(pca)\n",
    "    labels = kmeans_.labels_\n",
    "    x = silhouette_score(pca, labels, metric = 'euclidean')\n",
    "    silhouette_score_values.append(x)"
   ]
  },
  {
   "cell_type": "code",
   "execution_count": 77,
   "id": "f04bee7e",
   "metadata": {},
   "outputs": [
    {
     "data": {
      "text/plain": [
       "[0.5885101296977013,\n",
       " 0.5909566187614191,\n",
       " 0.6048093757257098,\n",
       " 0.606300634973679,\n",
       " 0.5792508816987507,\n",
       " 0.5798134918814685]"
      ]
     },
     "execution_count": 77,
     "metadata": {},
     "output_type": "execute_result"
    }
   ],
   "source": [
    "silhouette_score_values"
   ]
  },
  {
   "cell_type": "code",
   "execution_count": 78,
   "id": "57a2de23",
   "metadata": {},
   "outputs": [],
   "source": [
    "# Creating last version model using K = 11\n",
    "\n",
    "k_value = 11\n",
    "\n",
    "kmeans_v3 = KMeans(n_clusters=k_value)\n",
    "y_pred_new = kmeans_v3.fit_predict(pca)"
   ]
  },
  {
   "cell_type": "markdown",
   "id": "23a62c3a",
   "metadata": {},
   "source": [
    "According to the tests done above, the best model results were obteined with K=11."
   ]
  },
  {
   "cell_type": "markdown",
   "id": "a428f458",
   "metadata": {},
   "source": [
    "Now I'll place each label created by the best model (kmeans_v3) to the original dataframe"
   ]
  },
  {
   "cell_type": "code",
   "execution_count": 81,
   "id": "abfb2ba0",
   "metadata": {},
   "outputs": [
    {
     "data": {
      "text/html": [
       "<div>\n",
       "<style scoped>\n",
       "    .dataframe tbody tr th:only-of-type {\n",
       "        vertical-align: middle;\n",
       "    }\n",
       "\n",
       "    .dataframe tbody tr th {\n",
       "        vertical-align: top;\n",
       "    }\n",
       "\n",
       "    .dataframe thead th {\n",
       "        text-align: right;\n",
       "    }\n",
       "</style>\n",
       "<table border=\"1\" class=\"dataframe\">\n",
       "  <thead>\n",
       "    <tr style=\"text-align: right;\">\n",
       "      <th></th>\n",
       "      <th>Global_active_power</th>\n",
       "      <th>Global_reactive_power</th>\n",
       "      <th>Voltage</th>\n",
       "      <th>Global_intensity</th>\n",
       "      <th>Sub_metering_1</th>\n",
       "      <th>Sub_metering_2</th>\n",
       "      <th>Sub_metering_3</th>\n",
       "    </tr>\n",
       "  </thead>\n",
       "  <tbody>\n",
       "    <tr>\n",
       "      <th>0</th>\n",
       "      <td>4.216</td>\n",
       "      <td>0.418</td>\n",
       "      <td>234.84</td>\n",
       "      <td>18.4</td>\n",
       "      <td>0.0</td>\n",
       "      <td>1.0</td>\n",
       "      <td>17.0</td>\n",
       "    </tr>\n",
       "  </tbody>\n",
       "</table>\n",
       "</div>"
      ],
      "text/plain": [
       "   Global_active_power  Global_reactive_power  Voltage  Global_intensity  \\\n",
       "0                4.216                  0.418   234.84              18.4   \n",
       "\n",
       "   Sub_metering_1  Sub_metering_2  Sub_metering_3  \n",
       "0             0.0             1.0            17.0  "
      ]
     },
     "execution_count": 81,
     "metadata": {},
     "output_type": "execute_result"
    }
   ],
   "source": [
    "df_2.head(1)"
   ]
  },
  {
   "cell_type": "code",
   "execution_count": 82,
   "id": "2458924c",
   "metadata": {},
   "outputs": [],
   "source": [
    "col_names = ['Global_active_power','Global_reactive_power','Voltage','Global_intensity','Sub_metering_1','Sub_metering_2','Sub_metering_3']"
   ]
  },
  {
   "cell_type": "code",
   "execution_count": 85,
   "id": "ef81d5f2",
   "metadata": {},
   "outputs": [],
   "source": [
    "cluster_map = pd.DataFrame(df_2, columns = col_names)\n",
    "cluster_map['Clusters'] = kmeans_v3.labels_"
   ]
  },
  {
   "cell_type": "code",
   "execution_count": 86,
   "id": "bb3f6872",
   "metadata": {},
   "outputs": [
    {
     "data": {
      "text/html": [
       "<div>\n",
       "<style scoped>\n",
       "    .dataframe tbody tr th:only-of-type {\n",
       "        vertical-align: middle;\n",
       "    }\n",
       "\n",
       "    .dataframe tbody tr th {\n",
       "        vertical-align: top;\n",
       "    }\n",
       "\n",
       "    .dataframe thead th {\n",
       "        text-align: right;\n",
       "    }\n",
       "</style>\n",
       "<table border=\"1\" class=\"dataframe\">\n",
       "  <thead>\n",
       "    <tr style=\"text-align: right;\">\n",
       "      <th></th>\n",
       "      <th>Global_active_power</th>\n",
       "      <th>Global_reactive_power</th>\n",
       "      <th>Voltage</th>\n",
       "      <th>Global_intensity</th>\n",
       "      <th>Sub_metering_1</th>\n",
       "      <th>Sub_metering_2</th>\n",
       "      <th>Sub_metering_3</th>\n",
       "      <th>Clusters</th>\n",
       "    </tr>\n",
       "  </thead>\n",
       "  <tbody>\n",
       "    <tr>\n",
       "      <th>0</th>\n",
       "      <td>4.216</td>\n",
       "      <td>0.418</td>\n",
       "      <td>234.84</td>\n",
       "      <td>18.4</td>\n",
       "      <td>0.0</td>\n",
       "      <td>1.0</td>\n",
       "      <td>17.0</td>\n",
       "      <td>7</td>\n",
       "    </tr>\n",
       "    <tr>\n",
       "      <th>1</th>\n",
       "      <td>5.360</td>\n",
       "      <td>0.436</td>\n",
       "      <td>233.63</td>\n",
       "      <td>23.0</td>\n",
       "      <td>0.0</td>\n",
       "      <td>1.0</td>\n",
       "      <td>16.0</td>\n",
       "      <td>7</td>\n",
       "    </tr>\n",
       "    <tr>\n",
       "      <th>2</th>\n",
       "      <td>5.374</td>\n",
       "      <td>0.498</td>\n",
       "      <td>233.29</td>\n",
       "      <td>23.0</td>\n",
       "      <td>0.0</td>\n",
       "      <td>2.0</td>\n",
       "      <td>17.0</td>\n",
       "      <td>7</td>\n",
       "    </tr>\n",
       "    <tr>\n",
       "      <th>3</th>\n",
       "      <td>5.388</td>\n",
       "      <td>0.502</td>\n",
       "      <td>233.74</td>\n",
       "      <td>23.0</td>\n",
       "      <td>0.0</td>\n",
       "      <td>1.0</td>\n",
       "      <td>17.0</td>\n",
       "      <td>7</td>\n",
       "    </tr>\n",
       "    <tr>\n",
       "      <th>4</th>\n",
       "      <td>3.666</td>\n",
       "      <td>0.528</td>\n",
       "      <td>235.68</td>\n",
       "      <td>15.8</td>\n",
       "      <td>0.0</td>\n",
       "      <td>1.0</td>\n",
       "      <td>17.0</td>\n",
       "      <td>7</td>\n",
       "    </tr>\n",
       "    <tr>\n",
       "      <th>...</th>\n",
       "      <td>...</td>\n",
       "      <td>...</td>\n",
       "      <td>...</td>\n",
       "      <td>...</td>\n",
       "      <td>...</td>\n",
       "      <td>...</td>\n",
       "      <td>...</td>\n",
       "      <td>...</td>\n",
       "    </tr>\n",
       "    <tr>\n",
       "      <th>20492</th>\n",
       "      <td>0.386</td>\n",
       "      <td>0.250</td>\n",
       "      <td>241.57</td>\n",
       "      <td>1.8</td>\n",
       "      <td>0.0</td>\n",
       "      <td>0.0</td>\n",
       "      <td>0.0</td>\n",
       "      <td>4</td>\n",
       "    </tr>\n",
       "    <tr>\n",
       "      <th>20493</th>\n",
       "      <td>0.386</td>\n",
       "      <td>0.256</td>\n",
       "      <td>242.60</td>\n",
       "      <td>1.8</td>\n",
       "      <td>0.0</td>\n",
       "      <td>0.0</td>\n",
       "      <td>0.0</td>\n",
       "      <td>4</td>\n",
       "    </tr>\n",
       "    <tr>\n",
       "      <th>20494</th>\n",
       "      <td>0.386</td>\n",
       "      <td>0.258</td>\n",
       "      <td>242.91</td>\n",
       "      <td>1.8</td>\n",
       "      <td>0.0</td>\n",
       "      <td>0.0</td>\n",
       "      <td>0.0</td>\n",
       "      <td>4</td>\n",
       "    </tr>\n",
       "    <tr>\n",
       "      <th>20495</th>\n",
       "      <td>0.382</td>\n",
       "      <td>0.258</td>\n",
       "      <td>242.54</td>\n",
       "      <td>1.8</td>\n",
       "      <td>0.0</td>\n",
       "      <td>0.0</td>\n",
       "      <td>0.0</td>\n",
       "      <td>4</td>\n",
       "    </tr>\n",
       "    <tr>\n",
       "      <th>20496</th>\n",
       "      <td>0.372</td>\n",
       "      <td>0.250</td>\n",
       "      <td>241.45</td>\n",
       "      <td>1.8</td>\n",
       "      <td>0.0</td>\n",
       "      <td>0.0</td>\n",
       "      <td>0.0</td>\n",
       "      <td>4</td>\n",
       "    </tr>\n",
       "  </tbody>\n",
       "</table>\n",
       "<p>20493 rows × 8 columns</p>\n",
       "</div>"
      ],
      "text/plain": [
       "       Global_active_power  Global_reactive_power  Voltage  Global_intensity  \\\n",
       "0                    4.216                  0.418   234.84              18.4   \n",
       "1                    5.360                  0.436   233.63              23.0   \n",
       "2                    5.374                  0.498   233.29              23.0   \n",
       "3                    5.388                  0.502   233.74              23.0   \n",
       "4                    3.666                  0.528   235.68              15.8   \n",
       "...                    ...                    ...      ...               ...   \n",
       "20492                0.386                  0.250   241.57               1.8   \n",
       "20493                0.386                  0.256   242.60               1.8   \n",
       "20494                0.386                  0.258   242.91               1.8   \n",
       "20495                0.382                  0.258   242.54               1.8   \n",
       "20496                0.372                  0.250   241.45               1.8   \n",
       "\n",
       "       Sub_metering_1  Sub_metering_2  Sub_metering_3  Clusters  \n",
       "0                 0.0             1.0            17.0         7  \n",
       "1                 0.0             1.0            16.0         7  \n",
       "2                 0.0             2.0            17.0         7  \n",
       "3                 0.0             1.0            17.0         7  \n",
       "4                 0.0             1.0            17.0         7  \n",
       "...               ...             ...             ...       ...  \n",
       "20492             0.0             0.0             0.0         4  \n",
       "20493             0.0             0.0             0.0         4  \n",
       "20494             0.0             0.0             0.0         4  \n",
       "20495             0.0             0.0             0.0         4  \n",
       "20496             0.0             0.0             0.0         4  \n",
       "\n",
       "[20493 rows x 8 columns]"
      ]
     },
     "execution_count": 86,
     "metadata": {},
     "output_type": "execute_result"
    }
   ],
   "source": [
    "cluster_map"
   ]
  },
  {
   "cell_type": "markdown",
   "id": "d97eabc3",
   "metadata": {},
   "source": [
    "#### Calculate de average energy consumption by each Cluster or 'customer group'"
   ]
  },
  {
   "cell_type": "code",
   "execution_count": 88,
   "id": "3f9ad11f",
   "metadata": {},
   "outputs": [],
   "source": [
    "avg_customer = cluster_map.groupby(\"Clusters\")['Global_active_power'].mean()"
   ]
  },
  {
   "cell_type": "code",
   "execution_count": 89,
   "id": "76595f58",
   "metadata": {},
   "outputs": [
    {
     "data": {
      "text/plain": [
       "Clusters\n",
       "0     1.780305\n",
       "1     2.097296\n",
       "2     3.308272\n",
       "3     4.964405\n",
       "4     0.435178\n",
       "5     6.489009\n",
       "6     3.777287\n",
       "7     3.490040\n",
       "8     4.633167\n",
       "9     2.110383\n",
       "10    3.996144\n",
       "Name: Global_active_power, dtype: float64"
      ]
     },
     "execution_count": 89,
     "metadata": {},
     "output_type": "execute_result"
    }
   ],
   "source": [
    "avg_customer"
   ]
  },
  {
   "cell_type": "markdown",
   "id": "446423ae",
   "metadata": {},
   "source": [
    "For the future, it can be done an Regression algorithm to predict consumption values by groups or vice versa."
   ]
  }
 ],
 "metadata": {
  "kernelspec": {
   "display_name": "Python 3 (ipykernel)",
   "language": "python",
   "name": "python3"
  },
  "language_info": {
   "codemirror_mode": {
    "name": "ipython",
    "version": 3
   },
   "file_extension": ".py",
   "mimetype": "text/x-python",
   "name": "python",
   "nbconvert_exporter": "python",
   "pygments_lexer": "ipython3",
   "version": "3.9.12"
  }
 },
 "nbformat": 4,
 "nbformat_minor": 5
}
